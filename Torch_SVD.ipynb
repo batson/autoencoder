{
 "cells": [
  {
   "cell_type": "code",
   "execution_count": 17,
   "metadata": {},
   "outputs": [],
   "source": [
    "import numpy as np\n",
    "import matplotlib.pyplot as plt"
   ]
  },
  {
   "cell_type": "markdown",
   "metadata": {},
   "source": [
    "The purpose of this notebook is to investigate the relationship between autoencoders learned using gradient descent and SVD.\n",
    "\n",
    "Given a matrix $X$, the matrix of rank $k$ minimizing the $L^2$ distance from $X$ is given by projection $X$ onto its first $k$ singular vectors (or principal components).\n",
    "\n",
    "We can, using pytorch, try to solve the problem\n",
    "\n",
    "$$\\min_{U,V} |X-UV|^2$$\n",
    "\n",
    "among matrices $U$ and $V$ of inner dimension $k$.\n",
    "\n",
    "_Question_: which solver is the best for finding the optimum? How stochastic should we expect this to be? To what extent should the minibatch structure matter?"
   ]
  },
  {
   "cell_type": "markdown",
   "metadata": {},
   "source": [
    "Let's start with some data: 7 features with latent dimension 2, plus noise, for 1000 observations."
   ]
  },
  {
   "cell_type": "code",
   "execution_count": 27,
   "metadata": {},
   "outputs": [
    {
     "data": {
      "text/plain": [
       "<matplotlib.collections.PathCollection at 0x11f06c4e0>"
      ]
     },
     "execution_count": 27,
     "metadata": {},
     "output_type": "execute_result"
    },
    {
     "data": {
      "image/png": "[encoded data removed]",
      "text/plain": [
       "<Figure size 432x288 with 1 Axes>"
      ]
     },
     "metadata": {},
     "output_type": "display_data"
    }
   ],
   "source": [
    "latent_dim = 2\n",
    "dim = 7\n",
    "n_obs= 1000\n",
    "\n",
    "np.random.seed(1)\n",
    "W = np.random.gamma(2, scale=1, size = (latent_dim, dim))\n",
    "X_pure = np.dot(np.random.randn(n_obs,latent_dim), W)\n",
    "\n",
    "noise = np.random.randn(*X_pure.shape)*3\n",
    "X = X_pure + noise\n",
    "\n",
    "plt.scatter(X[:,1],X[:,3])"
   ]
  },
  {
   "cell_type": "code",
   "execution_count": 28,
   "metadata": {
    "collapsed": true
   },
   "outputs": [],
   "source": [
    "U, s, V = np.linalg.svd(X)"
   ]
  },
  {
   "cell_type": "code",
   "execution_count": 29,
   "metadata": {},
   "outputs": [
    {
     "data": {
      "text/plain": [
       "[<matplotlib.lines.Line2D at 0x11f17f0b8>]"
      ]
     },
     "execution_count": 29,
     "metadata": {},
     "output_type": "execute_result"
    },
    {
     "data": {
      "image/png": "[encoded data removed]",
      "text/plain": [
       "<Figure size 432x288 with 1 Axes>"
      ]
     },
     "metadata": {},
     "output_type": "display_data"
    }
   ],
   "source": [
    "plt.plot(s, 'o')"
   ]
  },
  {
   "cell_type": "markdown",
   "metadata": {},
   "source": [
    "SVD is the autoencoder with two linear layers, minimizing $L^2$ reconstruction error."
   ]
  },
  {
   "cell_type": "code",
   "execution_count": 21,
   "metadata": {
    "collapsed": true
   },
   "outputs": [],
   "source": [
    "import collections\n",
    "\n",
    "import torch\n",
    "import torch.nn as nn\n",
    "from torch import Tensor\n",
    "from torch.autograd import Variable\n",
    "import torch.utils.data as Data"
   ]
  },
  {
   "cell_type": "code",
   "execution_count": 22,
   "metadata": {
    "collapsed": true
   },
   "outputs": [],
   "source": [
    "class SVD(nn.Module):\n",
    "    def __init__(self, n_feat, n_hidden):\n",
    "        super(SVD, self).__init__()\n",
    "        self.encoder = nn.Linear(n_feat, n_hidden, bias = False)\n",
    "        self.decoder = nn.Linear(n_hidden, n_feat, bias = False)\n",
    "    \n",
    "    def forward(self, x):\n",
    "        y = self.decoder(self.encoder(x))\n",
    "        return y"
   ]
  },
  {
   "cell_type": "code",
   "execution_count": 23,
   "metadata": {},
   "outputs": [],
   "source": [
    "x = torch.from_numpy(X).float()"
   ]
  },
  {
   "cell_type": "code",
   "execution_count": 24,
   "metadata": {
    "collapsed": true
   },
   "outputs": [],
   "source": [
    "def svd(X, k):\n",
    "    U, s, V = np.linalg.svd(X, full_matrices=False)\n",
    "    return np.dot(np.dot(U[:,:k], np.diag(s[:k])),V[:k,:])"
   ]
  },
  {
   "cell_type": "code",
   "execution_count": 32,
   "metadata": {
    "collapsed": true
   },
   "outputs": [],
   "source": [
    "def torch_svd(X, k):\n",
    "    model = SVD(X.shape[1], k)\n",
    "    loss_fn = torch.nn.MSELoss(size_average=False)\n",
    "    learning_rate = 1e-1\n",
    "    optimizer = torch.optim.Adam(model.parameters(), lr=learning_rate)\n",
    "    \n",
    "    x = torch.from_numpy(X).float()\n",
    "    for t in range(1000):\n",
    "      x_pred = model(x)\n",
    "      loss = loss_fn(x_pred, x)\n",
    "\n",
    "      optimizer.zero_grad()\n",
    "      loss.backward()\n",
    "      optimizer.step()\n",
    "    return model(x).detach().numpy()"
   ]
  },
  {
   "cell_type": "markdown",
   "metadata": {},
   "source": [
    "Curiously, the matrices returned by gradient descent using Adam vary from round to round, often with significantly different errors from the optimum."
   ]
  },
  {
   "cell_type": "code",
   "execution_count": 36,
   "metadata": {},
   "outputs": [
    {
     "name": "stdout",
     "output_type": "stream",
     "text": [
      "errors in 5 iterations of rank 1 projections:  [0.0, 0.0, 0.0145, 0.0, 0.0]\n",
      "errors in 5 iterations of rank 2 projections:  [0.0, 0.0, 4.6923, 0.0, 0.0]\n",
      "errors in 5 iterations of rank 3 projections:  [0.0, 0.0, 0.0, 0.0, 948.7288]\n",
      "errors in 5 iterations of rank 4 projections:  [0.0, 0.0, 0.0, 0.0, 0.0]\n",
      "errors in 5 iterations of rank 5 projections:  [0.0, 1858.365, 0.0008, 0.0, 0.0018]\n"
     ]
    }
   ],
   "source": [
    "for k in range(1,6):\n",
    "    X_svd = svd(X, k)\n",
    "    torch_svds = [torch_svd(X,k) for i in range(5)]\n",
    "    diffs = [np.sum(np.square(X_svd - torch_svds[i])) for i in range(5)]\n",
    "    print(\"errors in 5 iterations of rank \"+ str(k) + \" projections: \", [np.round(diff, 4) for diff in diffs])"
   ]
  }
 ],
 "metadata": {
  "kernelspec": {
   "display_name": "scvi",
   "language": "python",
   "name": "scvi"
  },
  "language_info": {
   "codemirror_mode": {
    "name": "ipython",
    "version": 3
   },
   "file_extension": ".py",
   "mimetype": "text/x-python",
   "name": "python",
   "nbconvert_exporter": "python",
   "pygments_lexer": "ipython3",
   "version": "3.6.5"
  }
 },
 "nbformat": 4,
 "nbformat_minor": 2
}
